{
 "cells": [
  {
   "cell_type": "code",
   "execution_count": 1,
   "metadata": {},
   "outputs": [
    {
     "name": "stderr",
     "output_type": "stream",
     "text": [
      "/home/michael/.local/share/virtualenvs/python-8BoH1qVU/lib/python3.6/site-packages/h5py/__init__.py:36: FutureWarning: Conversion of the second argument of issubdtype from `float` to `np.floating` is deprecated. In future, it will be treated as `np.float64 == np.dtype(float).type`.\n",
      "  from ._conv import register_converters as _register_converters\n",
      "Using TensorFlow backend.\n"
     ]
    }
   ],
   "source": [
    "import numpy as np\n",
    "import pandas as pd\n",
    "from matplotlib import pyplot as plt\n",
    "\n",
    "import sklearn as sk\n",
    "from sklearn.model_selection import train_test_split\n",
    "from sklearn.model_selection import KFold\n",
    "\n",
    "from keras import models\n",
    "from keras import layers\n",
    "from keras.utils import np_utils\n",
    "\n",
    "%matplotlib inline"
   ]
  },
  {
   "cell_type": "code",
   "execution_count": null,
   "metadata": {},
   "outputs": [],
   "source": []
  },
  {
   "cell_type": "code",
   "execution_count": null,
   "metadata": {},
   "outputs": [],
   "source": []
  },
  {
   "cell_type": "code",
   "execution_count": null,
   "metadata": {},
   "outputs": [],
   "source": [
    "from sklearn import datasets\n",
    "iris = datasets.load_iris()\n",
    "y = pd.Series(iris.target)\n",
    "\n",
    "X = pd.DataFrame(iris.data,columns=iris.feature_names)\n",
    "X_train, X_test, y_train_flat, y_test_flat = train_test_split(X, y, test_size=0.2)\n",
    "y_train = np_utils.to_categorical(y_train_flat)\n",
    "y_test = np_utils.to_categorical(y_test_flat)\n",
    "number_of_features = X.shape[1]"
   ]
  },
  {
   "cell_type": "code",
   "execution_count": null,
   "metadata": {},
   "outputs": [],
   "source": [
    "model = models.Sequential()\n",
    "\n",
    "# Add fully connected layers with a ReLU activation function\n",
    "model.add(layers.Dense(units=16, activation='relu', input_shape=(number_of_features,)))\n",
    "model.add(layers.Dense(units=16, activation='relu'))\n",
    "\n",
    "# Output layer for multi-class: softmax function\n",
    "model.add(layers.Dense(units=3, activation='softmax'))\n",
    "\n",
    "# Compile neural network\n",
    "model.compile(loss='categorical_crossentropy', # Cross-entropy\n",
    "                optimizer='adam', # Root Mean Square Propagation\n",
    "                metrics=['accuracy']) # Accuracy performance metric\n",
    "\n",
    "# Train neural network\n",
    "history = model.fit(X_train, # Features\n",
    "                      y_train, # Target vector\n",
    "                      epochs=100, # Number of epochs\n",
    "                      verbose=1, # Print description after each epoch\n",
    "                      batch_size=10, # Number of observations per batch\n",
    "                      validation_data=(X_test, y_test)) # Data for evaluation\n",
    "\n"
   ]
  },
  {
   "cell_type": "code",
   "execution_count": null,
   "metadata": {},
   "outputs": [],
   "source": [
    "plt.plot(history.history['acc'])"
   ]
  },
  {
   "cell_type": "code",
   "execution_count": 2,
   "metadata": {},
   "outputs": [
    {
     "name": "stdout",
     "output_type": "stream",
     "text": [
      "KFold\t layers\t models\t np\t np_utils\t pd\t plt\t sk\t train_test_split\t \n",
      "\n"
     ]
    }
   ],
   "source": [
    "%who"
   ]
  },
  {
   "cell_type": "code",
   "execution_count": null,
   "metadata": {},
   "outputs": [],
   "source": []
  },
  {
   "cell_type": "code",
   "execution_count": null,
   "metadata": {},
   "outputs": [],
   "source": [
    "%who"
   ]
  },
  {
   "cell_type": "code",
   "execution_count": null,
   "metadata": {},
   "outputs": [],
   "source": []
  }
 ],
 "metadata": {
  "kernelspec": {
   "display_name": "Python 3",
   "language": "python",
   "name": "python3"
  },
  "language_info": {
   "codemirror_mode": {
    "name": "ipython",
    "version": 3
   },
   "file_extension": ".py",
   "mimetype": "text/x-python",
   "name": "python",
   "nbconvert_exporter": "python",
   "pygments_lexer": "ipython3",
   "version": "3.6.5"
  }
 },
 "nbformat": 4,
 "nbformat_minor": 2
}
